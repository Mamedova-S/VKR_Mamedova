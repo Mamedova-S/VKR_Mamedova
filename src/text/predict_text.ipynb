{
  "nbformat": 4,
  "nbformat_minor": 0,
  "metadata": {
    "colab": {
      "provenance": [],
      "machine_shape": "hm",
      "authorship_tag": "ABX9TyOMWhg2x7N9fNmjKeyLrXcV",
      "include_colab_link": true
    },
    "kernelspec": {
      "name": "python3",
      "display_name": "Python 3"
    },
    "language_info": {
      "name": "python"
    },
    "gpuClass": "standard"
  },
  "cells": [
    {
      "cell_type": "markdown",
      "metadata": {
        "id": "view-in-github",
        "colab_type": "text"
      },
      "source": [
        "<a href=\"https://colab.research.google.com/github/Mamedova-S/VKR_Mamedova/blob/main/src/text/predict_text.ipynb\" target=\"_parent\"><img src=\"https://colab.research.google.com/assets/colab-badge.svg\" alt=\"Open In Colab\"/></a>"
      ]
    },
    {
      "cell_type": "code",
      "source": [
        "from google.colab import drive\n",
        "drive.mount('/content/drive')"
      ],
      "metadata": {
        "colab": {
          "base_uri": "https://localhost:8080/"
        },
        "id": "QRChtmL7YwCM",
        "outputId": "d7288d75-b002-4f26-bfdc-32cc4da9c1a7"
      },
      "execution_count": 1,
      "outputs": [
        {
          "output_type": "stream",
          "name": "stdout",
          "text": [
            "Mounted at /content/drive\n"
          ]
        }
      ]
    },
    {
      "cell_type": "code",
      "source": [
        "from tensorflow.keras.preprocessing.sequence import pad_sequences\n",
        "from keras.models import load_model\n",
        "import pickle\n",
        "\n"
      ],
      "metadata": {
        "id": "rxvK9xZob9Ax"
      },
      "execution_count": 2,
      "outputs": []
    },
    {
      "cell_type": "code",
      "source": [
        "def Predictor1(sen):\n",
        "  model = load_model('/content/drive/MyDrive/Colab Notebooks/VKR_Depression/Models/text/model2.h5')\n",
        "  with open('/content/drive/MyDrive/Colab Notebooks/VKR_Depression/Models/text/tokenizer2.pickle', 'rb') as handle:\n",
        "    tokenizer = pickle.load(handle)\n",
        "  sen = tokenizer.texts_to_sequences(sen)\n",
        "  sen = pad_sequences(sen, maxlen = 96, dtype = 'int32', value = 0)\n",
        "  sentiment = model.predict(sen ,batch_size = 1, verbose = 0)[0]\n",
        "  sentiment = [float(i)/sum(sentiment) for i in sentiment]\n",
        " \n",
        "  # запись вывода в текстовый файл\n",
        "  file = open(\"/content/drive/MyDrive/Colab Notebooks/VKR_Depression/Test/results_text.txt\", \"w\")\n",
        "  final_prediction = ((sentiment[0]*100)**1.3 + (sentiment[2]*100)**1.5)/10\n",
        "\n",
        "  prediction_print = \"{:.2f}\".format(final_prediction)\n",
        "  file.write(f\"Depression percentage: {prediction_print}\\n\")\n",
        "  if(final_prediction>85):\n",
        "      file.write(\"You are depressed\")\n",
        "  elif(final_prediction>50):\n",
        "      file.write(\"You are more likely to be depressed\")\n",
        "  else:\n",
        "      file.write(\"You are less likely to be depressed\")\n",
        "  file.close()"
      ],
      "metadata": {
        "id": "NrjOAC1tP4AQ"
      },
      "execution_count": 3,
      "outputs": []
    },
    {
      "cell_type": "code",
      "source": [
        "# позитивные\n",
        "# sen=[\"i feel so good while talking to you\"]\n",
        "# sen=[\"i am playing games\"]\n",
        "# sen=[\"smiling through it all can not believe this is my life\"]\n",
        "# sen=[\"I had a black coffee last night to complete the assignments!\"]\n",
        "\n",
        "\n",
        "# грустные\n",
        "# sen = [\"i commit suicide\"]\n",
        "# sen = [\"i am discouraged and feeling lonely\"]\n",
        "# sen = [\"i do not like where my life is going I feel hopeless\"]\n",
        "# sen = [\"I do not want to be here anymore the only reason I stop myself from committing suicide is my parents It is not fair It was not my choice to come into this shit world now it is not my choice to leave\"]\n",
        "\n",
        "sen = []\n",
        "try:\n",
        "    file = open('/content/drive/MyDrive/Colab Notebooks/VKR_Depression/Test/input_text.txt', encoding=\"utf-8\")\n",
        "    for line in file:\n",
        "        s = line.strip()\n",
        "        sen.append(s)\n",
        "    file.close()\n",
        "except:\n",
        "    None\n",
        "\n",
        "Predictor1(sen)"
      ],
      "metadata": {
        "id": "v1TvOCP5rH_h"
      },
      "execution_count": null,
      "outputs": []
    },
    {
      "cell_type": "code",
      "source": [],
      "metadata": {
        "id": "saAWa2CSW6HJ"
      },
      "execution_count": null,
      "outputs": []
    }
  ]
}